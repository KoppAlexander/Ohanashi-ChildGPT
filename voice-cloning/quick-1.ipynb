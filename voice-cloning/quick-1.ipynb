{
 "cells": [
  {
   "cell_type": "code",
   "execution_count": null,
   "metadata": {},
   "outputs": [],
   "source": [
    "# this is the Text-to-speech (TTS) library\n",
    "!pip install TTS==0.21.3 "
   ]
  },
  {
   "cell_type": "code",
   "execution_count": null,
   "metadata": {},
   "outputs": [],
   "source": [
    "#import torch\n",
    "#torch.__version__"
   ]
  },
  {
   "cell_type": "code",
   "execution_count": null,
   "metadata": {},
   "outputs": [],
   "source": [
    "# This is needed only if you want to play the .wav files in the notebook\n",
    "from IPython.display import Audio"
   ]
  },
  {
   "cell_type": "code",
   "execution_count": null,
   "metadata": {},
   "outputs": [],
   "source": [
    "#device = 'mps'\n",
    "device = 'cpu'"
   ]
  },
  {
   "cell_type": "code",
   "execution_count": null,
   "metadata": {},
   "outputs": [],
   "source": [
    "from TTS.api import TTS\n",
    "\n",
    "# Check available models\n",
    "#print(\"\\n\".join(TTS().list_models()))"
   ]
  },
  {
   "cell_type": "code",
   "execution_count": null,
   "metadata": {},
   "outputs": [],
   "source": [
    "#init TTS with the xtts2 model\n",
    "model_name = 'tts_models/multilingual/multi-dataset/xtts_v2'\n",
    "\n",
    "tts = TTS(model_name).to(device)"
   ]
  },
  {
   "cell_type": "code",
   "execution_count": null,
   "metadata": {},
   "outputs": [],
   "source": [
    "# The input file that I recorded\n",
    "AUDIO_INPUT = 'inputs/test1.wav'\n",
    "\n",
    "# The file where the output will be written at the end\n",
    "AUDIO_OUTPUT = 'outputs/test.wav'"
   ]
  },
  {
   "cell_type": "code",
   "execution_count": null,
   "metadata": {},
   "outputs": [],
   "source": [
    "# You can listen to the file I recorded\n",
    "Audio(AUDIO_INPUT, rate=16000)"
   ]
  },
  {
   "cell_type": "code",
   "execution_count": null,
   "metadata": {},
   "outputs": [],
   "source": [
    "# The text that I am supposed to read at the end\n",
    "TEXT = 'Once upona a time a little girl lived in Heidelberg. She was friends with the wolf and everyone loved her.'"
   ]
  },
  {
   "cell_type": "code",
   "execution_count": null,
   "metadata": {},
   "outputs": [],
   "source": [
    "# Now TTS generates a sound file of this text with my voice\n",
    "tts.tts_to_file(text=TEXT,\n",
    "                speaker_wav=AUDIO_INPUT,\n",
    "                language='en',\n",
    "                file_path=AUDIO_OUTPUT)"
   ]
  },
  {
   "cell_type": "code",
   "execution_count": null,
   "metadata": {},
   "outputs": [],
   "source": [
    "# Here is how the result sounds\n",
    "Audio(AUDIO_OUTPUT, rate=16000)"
   ]
  }
 ],
 "metadata": {
  "kernelspec": {
   "display_name": "Python 3",
   "language": "python",
   "name": "python3"
  },
  "language_info": {
   "codemirror_mode": {
    "name": "ipython",
    "version": 3
   },
   "file_extension": ".py",
   "mimetype": "text/x-python",
   "name": "python",
   "nbconvert_exporter": "python",
   "pygments_lexer": "ipython3",
   "version": "3.11.3"
  }
 },
 "nbformat": 4,
 "nbformat_minor": 2
}
