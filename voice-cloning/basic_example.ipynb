{
 "cells": [
  {
   "cell_type": "markdown",
   "metadata": {},
   "source": [
    "### Audio file for input"
   ]
  },
  {
   "cell_type": "code",
   "execution_count": null,
   "metadata": {},
   "outputs": [],
   "source": [
    "# This is needed if you want to play the .wav files in the notebook\n",
    "from IPython.display import Audio"
   ]
  },
  {
   "cell_type": "code",
   "execution_count": null,
   "metadata": {},
   "outputs": [],
   "source": [
    "# The input file hat I recorded\n",
    "AUDIO_INPUT = 'inputs/deniz_11sec.wav'\n",
    "\n",
    "# You can listen to the file I recorded\n",
    "Audio(AUDIO_INPUT, rate=16000)"
   ]
  },
  {
   "cell_type": "markdown",
   "metadata": {},
   "source": [
    "### Load TTS model"
   ]
  },
  {
   "cell_type": "code",
   "execution_count": null,
   "metadata": {},
   "outputs": [],
   "source": [
    "# this is the Text-to-speech (TTS) library\n",
    "!pip install TTS"
   ]
  },
  {
   "cell_type": "code",
   "execution_count": null,
   "metadata": {},
   "outputs": [],
   "source": [
    "from TTS.api import TTS\n",
    "\n",
    "# Check available models\n",
    "print(\"\\n\".join(TTS().list_models()))"
   ]
  },
  {
   "cell_type": "code",
   "execution_count": null,
   "metadata": {},
   "outputs": [],
   "source": [
    "# select the first of these models\n",
    "#model_name = 'tts_models/multilingual/multi-dataset/xtts_v2'\n",
    "model_name = TTS().list_models()[0]"
   ]
  },
  {
   "cell_type": "code",
   "execution_count": null,
   "metadata": {},
   "outputs": [],
   "source": [
    "import torch\n",
    "device: str = 'cuda' if torch.cuda.is_available() else 'cpu'\n",
    "device"
   ]
  },
  {
   "cell_type": "code",
   "execution_count": null,
   "metadata": {},
   "outputs": [],
   "source": [
    "tts = TTS(model_name).to(device)"
   ]
  },
  {
   "cell_type": "markdown",
   "metadata": {},
   "source": [
    "### Text in English"
   ]
  },
  {
   "cell_type": "code",
   "execution_count": null,
   "metadata": {},
   "outputs": [],
   "source": [
    "# The text that I am supposed to read at the end\n",
    "TEXT = 'Once upon a time there was a Princess who was courted by suitor after suitor who came to the palace to win her hand.  But it seemed to her that each of them looked at her without really seeing her at all.'\n",
    "\n",
    "# The file where the output will be written at the end\n",
    "AUDIO_OUTPUT = 'outputs/test_en.wav'"
   ]
  },
  {
   "cell_type": "code",
   "execution_count": null,
   "metadata": {},
   "outputs": [],
   "source": [
    "# Now TTS generates a sound file of this text with my voice\n",
    "tts.tts_to_file(text=TEXT,\n",
    "                speaker_wav=AUDIO_INPUT,\n",
    "                language='en',\n",
    "                file_path=AUDIO_OUTPUT)"
   ]
  },
  {
   "cell_type": "code",
   "execution_count": null,
   "metadata": {},
   "outputs": [],
   "source": [
    "# Here is how the result sounds\n",
    "Audio(AUDIO_OUTPUT, rate=16000)"
   ]
  },
  {
   "cell_type": "markdown",
   "metadata": {},
   "source": [
    "### Text in German"
   ]
  },
  {
   "cell_type": "code",
   "execution_count": null,
   "metadata": {},
   "outputs": [],
   "source": [
    "TEXT = 'In den alten Zeiten, wo das Wünschen noch geholfen hat, lebte ein König, dessen Töchter waren alle schön, aber die jüngste war so schön, daß die Sonne selber, die doch so vieles gesehen hat, sich verwunderte so oft sie ihr ins Gesicht schien.'\n",
    "\n",
    "# The file where the output will be written at the end\n",
    "AUDIO_OUTPUT = 'outputs/test_de.wav'"
   ]
  },
  {
   "cell_type": "code",
   "execution_count": null,
   "metadata": {},
   "outputs": [],
   "source": [
    "# Now TTS generates a sound file of this text with my voice\n",
    "tts.tts_to_file(text=TEXT,\n",
    "                speaker_wav=AUDIO_INPUT,\n",
    "                language='de',\n",
    "                file_path=AUDIO_OUTPUT)"
   ]
  },
  {
   "cell_type": "code",
   "execution_count": null,
   "metadata": {},
   "outputs": [],
   "source": [
    "# Here is how the result sounds\n",
    "Audio(AUDIO_OUTPUT, rate=16000)"
   ]
  },
  {
   "cell_type": "markdown",
   "metadata": {},
   "source": [
    "### Text in Turkish"
   ]
  },
  {
   "cell_type": "code",
   "execution_count": null,
   "metadata": {},
   "outputs": [],
   "source": [
    "TEXT = \"Bugün okula gitmek istemiyorum.\"\n",
    "\n",
    "# The input voice is now changed\n",
    "AUDIO_INPUT = 'inputs/michel.wav'\n",
    "Audio(AUDIO_INPUT, rate=16000)"
   ]
  },
  {
   "cell_type": "markdown",
   "metadata": {},
   "source": [
    "Turkish with german accent (by selecting german as a language)"
   ]
  },
  {
   "cell_type": "code",
   "execution_count": null,
   "metadata": {},
   "outputs": [],
   "source": [
    "# The file where the output will be written at the end\n",
    "AUDIO_OUTPUT = 'outputs/test_tr_de.wav'\n",
    "\n",
    "tts.tts_to_file(text=TEXT,\n",
    "                speaker_wav=AUDIO_INPUT,\n",
    "                language='de',\n",
    "                file_path=AUDIO_OUTPUT)\n",
    "\n",
    "Audio(AUDIO_OUTPUT, rate=16000)"
   ]
  },
  {
   "cell_type": "markdown",
   "metadata": {},
   "source": [
    "Proper turkish"
   ]
  },
  {
   "cell_type": "code",
   "execution_count": null,
   "metadata": {},
   "outputs": [],
   "source": [
    "AUDIO_OUTPUT = 'outputs/test_tr.wav'\n",
    "\n",
    "tts.tts_to_file(text=TEXT,\n",
    "                speaker_wav=AUDIO_INPUT,\n",
    "                language='tr',\n",
    "                file_path=AUDIO_OUTPUT)\n",
    "\n",
    "Audio(AUDIO_OUTPUT, rate=16000)"
   ]
  }
 ],
 "metadata": {
  "kernelspec": {
   "display_name": "Python 3",
   "language": "python",
   "name": "python3"
  },
  "language_info": {
   "codemirror_mode": {
    "name": "ipython",
    "version": 3
   },
   "file_extension": ".py",
   "mimetype": "text/x-python",
   "name": "python",
   "nbconvert_exporter": "python",
   "pygments_lexer": "ipython3",
   "version": "3.11.3"
  }
 },
 "nbformat": 4,
 "nbformat_minor": 2
}
